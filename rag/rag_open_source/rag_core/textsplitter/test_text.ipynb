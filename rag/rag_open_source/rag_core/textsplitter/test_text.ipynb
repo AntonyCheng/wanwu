{
 "cells": [
  {
   "cell_type": "code",
   "execution_count": null,
   "id": "ae5c26ea-0808-4621-ae5f-5bb7e7932ba9",
   "metadata": {},
   "outputs": [],
   "source": [
    "import os  \n",
    "import pandas as pd  \n",
    "from ChineseTextSplitter import ChineseTextSplitter  # 确保这个类或模块存在  \n",
    "  \n",
    "# 如果需要处理.docx文件，请确保安装了python-docx库  \n",
    "# pip install python-docx  \n",
    "try:  \n",
    "    from docx import Document  \n",
    "except ImportError:  \n",
    "    print(\"请安装python-docx库来支持.docx文件的处理。\")  \n",
    "  \n",
    "def read_docx(file_path):  \n",
    "    \"\"\"从.docx文件中读取文本内容\"\"\"  \n",
    "    doc = Document(file_path)  \n",
    "    full_text = []  \n",
    "    for para in doc.paragraphs:  \n",
    "        full_text.append(para.text)  \n",
    "    return '\\n'.join(full_text)  \n",
    "  \n",
    "def split_and_save_to_excel(text_folder, output_excel):  \n",
    "    all_chunks = []  \n",
    "  \n",
    "    for filename in os.listdir(text_folder):  \n",
    "        if filename.endswith(('.txt', '.docx')):  # 处理.txt和.docx文件  \n",
    "            file_path = os.path.join(text_folder, filename)  \n",
    "              \n",
    "            # 根据文件类型读取文本  \n",
    "            if filename.endswith('.txt'):  \n",
    "                with open(file_path, 'r', encoding='utf-8') as file:  \n",
    "                    text = file.read()  \n",
    "            elif filename.endswith('.docx'):  \n",
    "                text = read_docx(file_path)  \n",
    "  \n",
    "            # 初始化文本分割器  \n",
    "            textsplitter = ChineseTextSplitter(1, sentence_size=300, overlap_size=0.2)  \n",
    "            chunks = textsplitter.split_text(text)  \n",
    "  \n",
    "            # 为每个文本块添加来源文件名信息  \n",
    "            for i, chunk in enumerate(chunks, start=1):  \n",
    "                all_chunks.append((f\"Chunk {i}_{filename[:-4]}\", chunk.strip()))  \n",
    "  \n",
    "    # 将列表转换为DataFrame  \n",
    "    chunks_df = pd.DataFrame(all_chunks, columns=[\"Chunk ID\", \"Text Chunk\"])  \n",
    "  \n",
    "    # 使用pandas的ExcelWriter写入Excel文件  \n",
    "    with pd.ExcelWriter(output_excel, engine='openpyxl') as writer:  \n",
    "        chunks_df.to_excel(writer, index=False)  \n",
    "  \n",
    "# 使用示例  \n",
    "text_folder = 'path_to_your_text_folder'  # 替换为你的文本文件所在文件夹路径  \n",
    "output_excel = 'text_chunks_all.xlsx'  # 输出的Excel文件名  \n",
    "split_and_save_to_excel(text_folder, output_excel)"
   ]
  }
 ],
 "metadata": {
  "kernelspec": {
   "display_name": "Python 3 (ipykernel)",
   "language": "python",
   "name": "python3"
  },
  "language_info": {
   "codemirror_mode": {
    "name": "ipython",
    "version": 3
   },
   "file_extension": ".py",
   "mimetype": "text/x-python",
   "name": "python",
   "nbconvert_exporter": "python",
   "pygments_lexer": "ipython3",
   "version": "3.8.17"
  }
 },
 "nbformat": 4,
 "nbformat_minor": 5
}
